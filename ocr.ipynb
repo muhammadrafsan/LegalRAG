{
 "cells": [
  {
   "cell_type": "code",
   "execution_count": null,
   "id": "47ed70d2",
   "metadata": {},
   "outputs": [],
   "source": [
    "!pip install -U pypdfium2\n",
    "!pip install pytesseract"
   ]
  },
  {
   "cell_type": "code",
   "execution_count": null,
   "id": "361a0758",
   "metadata": {},
   "outputs": [],
   "source": [
    "import pypdfium2 as pdfium\n",
    "from PIL import Image, ImageEnhance, ImageFilter\n",
    "import pytesseract\n",
    "from io import BytesIO\n",
    "import matplotlib.pyplot as plt"
   ]
  },
  {
   "cell_type": "code",
   "execution_count": null,
   "id": "b9bc37e7",
   "metadata": {},
   "outputs": [],
   "source": [
    "pytesseract.pytesseract.tesseract_cmd = \"C:/Program Files/Tesseract-OCR/tesseract.exe\"\n",
    "\n",
    "def convert_pdf_to_images(file_path, scale=300/72):\n",
    "    pdf_file = pdfium.PdfDocument(file_path)\n",
    "    page_indices = [i for i in range(len(pdf_file))]\n",
    "    \n",
    "    renderer = pdf_file.render(\n",
    "        pdfium.PdfBitmap.to_pil,\n",
    "        page_indices=page_indices,\n",
    "        scale=scale,\n",
    "    )\n",
    "    \n",
    "    list_final_images = []\n",
    "    \n",
    "    for i, image in zip(page_indices, renderer):\n",
    "        image_byte_array = BytesIO()\n",
    "        image.save(image_byte_array, format='jpeg', optimize=True)\n",
    "        image_byte_array = image_byte_array.getvalue()\n",
    "        list_final_images.append({i: image_byte_array})\n",
    "    \n",
    "    return list_final_images\n",
    "\n",
    "def display_images(list_dict_final_images):\n",
    "    all_images = [list(data.values())[0] for data in list_dict_final_images]\n",
    "\n",
    "    for index, image_bytes in enumerate(all_images):\n",
    "        image = Image.open(BytesIO(image_bytes))\n",
    "        figure = plt.figure(figsize=(image.width / 100, image.height / 100))\n",
    "        plt.title(f\"----- Page Number {index + 1} -----\")\n",
    "        plt.imshow(image)\n",
    "        plt.axis(\"off\")\n",
    "        plt.show()\n",
    "\n",
    "def preprocess_image(image):\n",
    "    image = image.filter(ImageFilter.MedianFilter())\n",
    "    enhancer = ImageEnhance.Contrast(image)\n",
    "    image = enhancer.enhance(2)\n",
    "    image = image.convert('1')  \n",
    "    return image\n",
    "\n",
    "def extract_text_with_pytesseract(list_dict_final_images, output_file_path):\n",
    "    image_list = [list(data.values())[0] for data in list_dict_final_images]\n",
    "    image_content = []\n",
    "\n",
    "    for index, image_bytes in enumerate(image_list):\n",
    "        image = Image.open(BytesIO(image_bytes))\n",
    "        image = preprocess_image(image)\n",
    "        raw_text = pytesseract.image_to_string(image, lang='ben')\n",
    "        image_content.append(raw_text)\n",
    "\n",
    "    extracted_text = \"\\n\".join(image_content)\n",
    "    with open(output_file_path, 'w', encoding='utf-8') as f:\n",
    "        f.write(extracted_text)\n",
    "\n",
    "    print(f\"Text successfully saved to {output_file_path}\")\n",
    "\n",
    "pdf_file_path = 'D:/code/document.pdf'\n",
    "output_txt_file = 'D:/code/extracted_text.txt'\n",
    "\n",
    "convert_pdf_to_images_result = convert_pdf_to_images(pdf_file_path)\n",
    "display_images(convert_pdf_to_images_result)\n",
    "\n",
    "extract_text_with_pytesseract(convert_pdf_to_images_result, output_txt_file)\n"
   ]
  }
 ],
 "metadata": {
  "kernelspec": {
   "display_name": "venv",
   "language": "python",
   "name": "python3"
  },
  "language_info": {
   "codemirror_mode": {
    "name": "ipython",
    "version": 3
   },
   "file_extension": ".py",
   "mimetype": "text/x-python",
   "name": "python",
   "nbconvert_exporter": "python",
   "pygments_lexer": "ipython3",
   "version": "3.12.3"
  },
  "toc": {
   "base_numbering": 1,
   "nav_menu": {},
   "number_sections": true,
   "sideBar": true,
   "skip_h1_title": false,
   "title_cell": "Table of Contents",
   "title_sidebar": "Contents",
   "toc_cell": false,
   "toc_position": {},
   "toc_section_display": true,
   "toc_window_display": false
  }
 },
 "nbformat": 4,
 "nbformat_minor": 5
}

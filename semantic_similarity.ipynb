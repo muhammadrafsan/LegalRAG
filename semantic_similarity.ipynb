{
  "cells": [
    {
      "cell_type": "code",
      "execution_count": null,
      "metadata": {
        "colab": {
          "base_uri": "https://localhost:8080/"
        },
        "id": "sd4P0_5wsE8G",
        "outputId": "1c8c2f4c-eaad-44ae-e6e4-51ef1fe955d4"
      },
      "outputs": [],
      "source": [
        "!pip install langchain_community\n",
        "!pip install sentence-transformers"
      ]
    },
    {
      "cell_type": "code",
      "execution_count": null,
      "metadata": {
        "colab": {
          "base_uri": "https://localhost:8080/",
          "height": 206
        },
        "id": "0UZkZlYesbCC",
        "outputId": "3e07b819-3f55-43b4-bae9-4c13042dc23a"
      },
      "outputs": [],
      "source": [
        "import pandas as pd\n",
        "\n",
        "data = pd.read_excel('/content/Mixtral_Evaluation.xlsx')\n",
        "data.head()"
      ]
    },
    {
      "cell_type": "code",
      "execution_count": null,
      "metadata": {
        "colab": {
          "base_uri": "https://localhost:8080/"
        },
        "id": "_qLyRRb4uurw",
        "outputId": "36f4751a-7d93-480c-c6e3-9aacd5c4eb16"
      },
      "outputs": [],
      "source": [
        "from torch.nn.functional import cosine_similarity\n",
        "import torch\n",
        "cosine_sim_sum = 0.0\n",
        "\n",
        "for i in range(len(data)):\n",
        "  response = data['Generated Response'][i]\n",
        "  answer = data['Answer'][i]\n",
        "\n",
        "  response_embed = embeddings.embed_query(response)\n",
        "  answer_embed = embeddings.embed_query(answer)\n",
        "\n",
        "  res = torch.tensor(response_embed)\n",
        "  ans = torch.tensor(answer_embed)\n",
        "\n",
        "  cos_sim = cosine_similarity(ans, res, dim=0)\n",
        "  cosine_sim_sum += cos_sim.item()\n",
        "\n",
        "mean_cosine_similarity = cosine_sim_sum / len(data)\n",
        "print(f\"Mean Cosine Similarity: {mean_cosine_similarity}\")"
      ]
    }
  ],
  "metadata": {
    "accelerator": "GPU",
    "colab": {
      "gpuType": "T4",
      "provenance": []
    },
    "kernelspec": {
      "display_name": "Python 3",
      "name": "python3"
    },
    "language_info": {
      "name": "python"
    }
  },
  "nbformat": 4,
  "nbformat_minor": 0
}
